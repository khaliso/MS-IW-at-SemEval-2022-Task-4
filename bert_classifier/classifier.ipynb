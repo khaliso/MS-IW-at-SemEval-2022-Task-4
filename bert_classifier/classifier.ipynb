{
 "cells": [
  {
   "cell_type": "markdown",
   "id": "e318cf24",
   "metadata": {},
   "source": [
    "Let's install and import some stuff first:"
   ]
  },
  {
   "cell_type": "code",
   "execution_count": null,
   "id": "95880e6c",
   "metadata": {},
   "outputs": [],
   "source": [
    "'''!pip install transformers\n",
    "!pip install datasets\n",
    "!pip install torch torchvision torchaudio\n",
    "!pip install keras\n",
    "!pip install tensorflow'''"
   ]
  },
  {
   "cell_type": "code",
   "execution_count": null,
   "id": "2bcbb2fe",
   "metadata": {},
   "outputs": [],
   "source": [
    "import transformers\n",
    "import torch\n",
    "import keras\n",
    "from datasets import load_dataset\n",
    "\n",
    "import numpy as np\n",
    "import pandas as pd\n",
    "import seaborn as sns\n",
    "import matplotlib.pyplot as plt\n",
    "#from pylab import rcParams\n",
    "#from matplotlib import rc\n",
    "#from sklearn.model_selection import train_test_split\n",
    "from sklearn.metrics import confusion_matrix, precision_recall_fscore_support\n",
    "from transformers import AutoModelForSequenceClassification, TrainingArguments, Trainer, AutoTokenizer\n",
    "#from collections import defaultdict\n",
    "#from textwrap import wrap\n",
    "#import torch.nn.functional as F\n",
    "\n",
    "#from torch import nn, optim\n",
    "#from torch.utils.data import Dataset, DataLoader"
   ]
  },
  {
   "cell_type": "markdown",
   "id": "75b6066f",
   "metadata": {},
   "source": [
    "Load Don't Patronize Me Module and Scorer (we only have to do this once)"
   ]
  },
  {
   "cell_type": "markdown",
   "id": "5f945aa0",
   "metadata": {},
   "source": [
    "### Loading original data (undersampled/not undersampled)"
   ]
  },
  {
   "cell_type": "code",
   "execution_count": 50,
   "id": "59ba432f",
   "metadata": {},
   "outputs": [
    {
     "name": "stderr",
     "output_type": "stream",
     "text": [
      "Using custom data configuration default-5378d8252653fd8a\n",
      "Reusing dataset csv (/home/jovyan/.cache/huggingface/datasets/csv/default-5378d8252653fd8a/0.0.0/6b9057d9e23d9d8a2f05b985917a0da84d70c5dae3d22ddd8a3f22fb01c69d9e)\n"
     ]
    },
    {
     "data": {
      "application/vnd.jupyter.widget-view+json": {
       "model_id": "fe29399426ec48a6b36398460731bf36",
       "version_major": 2,
       "version_minor": 0
      },
      "text/plain": [
       "  0%|          | 0/5 [00:00<?, ?it/s]"
      ]
     },
     "metadata": {},
     "output_type": "display_data"
    },
    {
     "name": "stderr",
     "output_type": "stream",
     "text": [
      "Using custom data configuration default-5378d8252653fd8a\n",
      "Reusing dataset csv (/home/jovyan/.cache/huggingface/datasets/csv/default-5378d8252653fd8a/0.0.0/6b9057d9e23d9d8a2f05b985917a0da84d70c5dae3d22ddd8a3f22fb01c69d9e)\n"
     ]
    },
    {
     "data": {
      "application/vnd.jupyter.widget-view+json": {
       "model_id": "dfa93e8f783e46a08ceabef95be939e3",
       "version_major": 2,
       "version_minor": 0
      },
      "text/plain": [
       "  0%|          | 0/5 [00:00<?, ?it/s]"
      ]
     },
     "metadata": {},
     "output_type": "display_data"
    },
    {
     "data": {
      "text/plain": [
       "'vals_ds_bin = load_dataset(\\'csv\\', data_files=\"train_set.csv\", split=[\\n    f\\'train[{k}%:{k+20}%]\\' for k in range(0, 100, 20)\\n])\\ntrains_ds_bin = load_dataset(\\'csv\\', data_files=\"train_set.csv\", split=[\\n    f\\'train[:{k}%]+train[{k+20}%:]\\' for k in range(0, 100, 20)\\n])'"
      ]
     },
     "execution_count": 50,
     "metadata": {},
     "output_type": "execute_result"
    }
   ],
   "source": [
    "vals_ds_bin, trains_ds_bin = load_training_set(\"train_data_downsampled.csv\")"
   ]
  },
  {
   "cell_type": "markdown",
   "id": "1babd262",
   "metadata": {},
   "source": [
    "If we have trained and saved the model before, we can load it here (2nd line)"
   ]
  },
  {
   "cell_type": "code",
   "execution_count": null,
   "id": "6acc8f7d",
   "metadata": {},
   "outputs": [],
   "source": [
    "metrics = {} \n",
    "\n",
    "for i in range(1):\n",
    "    model = AutoModelForSequenceClassification.from_pretrained(\"bert-base-cased\", num_labels=2)\n",
    "    trainer_bin = Trainer(model=model, args=training_args, train_dataset=trains_ds_bin[i], eval_dataset=vals_ds_bin[i], compute_metrics=compute_metrics)\n",
    "    trainer_bin.train()\n",
    "    metrics[i] = trainer_bin.evaluate()"
   ]
  },
  {
   "cell_type": "code",
   "execution_count": 44,
   "id": "628cd399",
   "metadata": {},
   "outputs": [
    {
     "data": {
      "text/html": [
       "<div>\n",
       "<style scoped>\n",
       "    .dataframe tbody tr th:only-of-type {\n",
       "        vertical-align: middle;\n",
       "    }\n",
       "\n",
       "    .dataframe tbody tr th {\n",
       "        vertical-align: top;\n",
       "    }\n",
       "\n",
       "    .dataframe thead th {\n",
       "        text-align: right;\n",
       "    }\n",
       "</style>\n",
       "<table border=\"1\" class=\"dataframe\">\n",
       "  <thead>\n",
       "    <tr style=\"text-align: right;\">\n",
       "      <th></th>\n",
       "      <th>eval_loss</th>\n",
       "      <th>eval_accuracy</th>\n",
       "      <th>eval_f1</th>\n",
       "      <th>eval_precision</th>\n",
       "      <th>eval_recall</th>\n",
       "      <th>epoch</th>\n",
       "    </tr>\n",
       "  </thead>\n",
       "  <tbody>\n",
       "    <tr>\n",
       "      <th>count</th>\n",
       "      <td>5.000000</td>\n",
       "      <td>5.000000</td>\n",
       "      <td>5.000000</td>\n",
       "      <td>5.000000</td>\n",
       "      <td>5.000000</td>\n",
       "      <td>5.0</td>\n",
       "    </tr>\n",
       "    <tr>\n",
       "      <th>mean</th>\n",
       "      <td>0.627468</td>\n",
       "      <td>0.692160</td>\n",
       "      <td>0.661049</td>\n",
       "      <td>0.723967</td>\n",
       "      <td>0.613904</td>\n",
       "      <td>3.0</td>\n",
       "    </tr>\n",
       "    <tr>\n",
       "      <th>std</th>\n",
       "      <td>0.033562</td>\n",
       "      <td>0.023670</td>\n",
       "      <td>0.069333</td>\n",
       "      <td>0.036131</td>\n",
       "      <td>0.100462</td>\n",
       "      <td>0.0</td>\n",
       "    </tr>\n",
       "    <tr>\n",
       "      <th>min</th>\n",
       "      <td>0.599015</td>\n",
       "      <td>0.660436</td>\n",
       "      <td>0.551440</td>\n",
       "      <td>0.673333</td>\n",
       "      <td>0.452703</td>\n",
       "      <td>3.0</td>\n",
       "    </tr>\n",
       "    <tr>\n",
       "      <th>25%</th>\n",
       "      <td>0.608846</td>\n",
       "      <td>0.680124</td>\n",
       "      <td>0.650350</td>\n",
       "      <td>0.705263</td>\n",
       "      <td>0.584906</td>\n",
       "      <td>3.0</td>\n",
       "    </tr>\n",
       "    <tr>\n",
       "      <th>50%</th>\n",
       "      <td>0.620695</td>\n",
       "      <td>0.689441</td>\n",
       "      <td>0.662295</td>\n",
       "      <td>0.732283</td>\n",
       "      <td>0.651613</td>\n",
       "      <td>3.0</td>\n",
       "    </tr>\n",
       "    <tr>\n",
       "      <th>75%</th>\n",
       "      <td>0.623950</td>\n",
       "      <td>0.714286</td>\n",
       "      <td>0.718266</td>\n",
       "      <td>0.740741</td>\n",
       "      <td>0.674419</td>\n",
       "      <td>3.0</td>\n",
       "    </tr>\n",
       "    <tr>\n",
       "      <th>max</th>\n",
       "      <td>0.684835</td>\n",
       "      <td>0.716511</td>\n",
       "      <td>0.722892</td>\n",
       "      <td>0.768212</td>\n",
       "      <td>0.705882</td>\n",
       "      <td>3.0</td>\n",
       "    </tr>\n",
       "  </tbody>\n",
       "</table>\n",
       "</div>"
      ],
      "text/plain": [
       "       eval_loss  eval_accuracy   eval_f1  eval_precision  eval_recall  epoch\n",
       "count   5.000000       5.000000  5.000000        5.000000     5.000000    5.0\n",
       "mean    0.627468       0.692160  0.661049        0.723967     0.613904    3.0\n",
       "std     0.033562       0.023670  0.069333        0.036131     0.100462    0.0\n",
       "min     0.599015       0.660436  0.551440        0.673333     0.452703    3.0\n",
       "25%     0.608846       0.680124  0.650350        0.705263     0.584906    3.0\n",
       "50%     0.620695       0.689441  0.662295        0.732283     0.651613    3.0\n",
       "75%     0.623950       0.714286  0.718266        0.740741     0.674419    3.0\n",
       "max     0.684835       0.716511  0.722892        0.768212     0.705882    3.0"
      ]
     },
     "execution_count": 44,
     "metadata": {},
     "output_type": "execute_result"
    }
   ],
   "source": [
    "metrics_df = pd.DataFrame.from_dict(metrics).transpose()\n",
    "metrics_df.describe()"
   ]
  },
  {
   "cell_type": "markdown",
   "id": "15019f0c",
   "metadata": {},
   "source": [
    "### Testing Model Performance on Test set"
   ]
  },
  {
   "cell_type": "code",
   "execution_count": 56,
   "id": "c8be7dce",
   "metadata": {},
   "outputs": [
    {
     "name": "stderr",
     "output_type": "stream",
     "text": [
      "Using custom data configuration default-052e446863cb49b0\n",
      "Reusing dataset csv (/home/jovyan/.cache/huggingface/datasets/csv/default-052e446863cb49b0/0.0.0/6b9057d9e23d9d8a2f05b985917a0da84d70c5dae3d22ddd8a3f22fb01c69d9e)\n"
     ]
    },
    {
     "data": {
      "application/vnd.jupyter.widget-view+json": {
       "model_id": "413930f7f50d48419713c4246b9c3955",
       "version_major": 2,
       "version_minor": 0
      },
      "text/plain": [
       "  0%|          | 0/1 [00:00<?, ?it/s]"
      ]
     },
     "metadata": {},
     "output_type": "display_data"
    },
    {
     "data": {
      "application/vnd.jupyter.widget-view+json": {
       "model_id": "13f182a1c1cc4cb583b4fa9bc03cab52",
       "version_major": 2,
       "version_minor": 0
      },
      "text/plain": [
       "  0%|          | 0/1 [00:00<?, ?ba/s]"
      ]
     },
     "metadata": {},
     "output_type": "display_data"
    }
   ],
   "source": [
    "test = load_test_set(\"test_data_downsampled.csv\")"
   ]
  },
  {
   "cell_type": "code",
   "execution_count": 58,
   "id": "a3d8dc6d",
   "metadata": {},
   "outputs": [
    {
     "name": "stderr",
     "output_type": "stream",
     "text": [
      "The following columns in the test set  don't have a corresponding argument in `BertForSequenceClassification.forward` and have been ignored: text.\n",
      "***** Running Prediction *****\n",
      "  Num examples = 199\n",
      "  Batch size = 8\n"
     ]
    },
    {
     "data": {
      "text/plain": [
       "{'accuracy': 0.8492462311557789,\n",
       " 'f1': 0.8514851485148516,\n",
       " 'precision': 0.8349514563106796,\n",
       " 'recall': 0.8686868686868687}"
      ]
     },
     "execution_count": 58,
     "metadata": {},
     "output_type": "execute_result"
    }
   ],
   "source": [
    "#model = AutoModelForSequenceClassification.from_pretrained(\"semeval_task4/model\", local_files_only=True)\n",
    "#trainer = Trainer(model=model, args=training_args)\n",
    "\n",
    "y_pred = trainer_bin.predict(test[\"train\"])\n",
    "compute_test_metrics(y_pred, 'binary')"
   ]
  },
  {
   "cell_type": "code",
   "execution_count": 59,
   "id": "ae12d9f2",
   "metadata": {},
   "outputs": [
    {
     "data": {
      "image/png": "[encoded data removed]",
      "text/plain": [
       "<Figure size 432x288 with 2 Axes>"
      ]
     },
     "metadata": {},
     "output_type": "display_data"
    }
   ],
   "source": [
    "cm = confusion_matrix(y_pred.label_ids, y_pred.predictions.argmax(-1))\n",
    "show_confusion_matrix(cm)"
   ]
  },
  {
   "cell_type": "code",
   "execution_count": 60,
   "id": "6a72c762",
   "metadata": {},
   "outputs": [
    {
     "name": "stderr",
     "output_type": "stream",
     "text": [
      "Saving model checkpoint to semeval_task4/model\n",
      "Configuration saved in semeval_task4/model/config.json\n",
      "Model weights saved in semeval_task4/model/pytorch_model.bin\n"
     ]
    }
   ],
   "source": [
    "trainer.save_model('semeval_task4/model')"
   ]
  },
  {
   "cell_type": "markdown",
   "id": "1d9ca337",
   "metadata": {},
   "source": [
    "### Classifying synthetic data with pre-classifier. We will only use those samples, which are classified as PCL by our classifier"
   ]
  },
  {
   "cell_type": "code",
   "execution_count": 29,
   "id": "abc89714",
   "metadata": {},
   "outputs": [
    {
     "name": "stderr",
     "output_type": "stream",
     "text": [
      "Using custom data configuration default-3388d7383deb64ac\n"
     ]
    },
    {
     "name": "stdout",
     "output_type": "stream",
     "text": [
      "Downloading and preparing dataset csv/default to /home/jovyan/.cache/huggingface/datasets/csv/default-3388d7383deb64ac/0.0.0/6b9057d9e23d9d8a2f05b985917a0da84d70c5dae3d22ddd8a3f22fb01c69d9e...\n"
     ]
    },
    {
     "data": {
      "application/vnd.jupyter.widget-view+json": {
       "model_id": "c92001cbb71c4288a30488375e8d4e4d",
       "version_major": 2,
       "version_minor": 0
      },
      "text/plain": [
       "  0%|          | 0/1 [00:00<?, ?it/s]"
      ]
     },
     "metadata": {},
     "output_type": "display_data"
    },
    {
     "data": {
      "application/vnd.jupyter.widget-view+json": {
       "model_id": "06655ec722934ecb96a0c51951c9c308",
       "version_major": 2,
       "version_minor": 0
      },
      "text/plain": [
       "  0%|          | 0/1 [00:00<?, ?it/s]"
      ]
     },
     "metadata": {},
     "output_type": "display_data"
    },
    {
     "name": "stdout",
     "output_type": "stream",
     "text": [
      "Dataset csv downloaded and prepared to /home/jovyan/.cache/huggingface/datasets/csv/default-3388d7383deb64ac/0.0.0/6b9057d9e23d9d8a2f05b985917a0da84d70c5dae3d22ddd8a3f22fb01c69d9e. Subsequent calls will reuse this data.\n"
     ]
    },
    {
     "data": {
      "application/vnd.jupyter.widget-view+json": {
       "model_id": "8730c62f99c94a4a8cae87f6ec920e71",
       "version_major": 2,
       "version_minor": 0
      },
      "text/plain": [
       "  0%|          | 0/1 [00:00<?, ?it/s]"
      ]
     },
     "metadata": {},
     "output_type": "display_data"
    },
    {
     "data": {
      "application/vnd.jupyter.widget-view+json": {
       "model_id": "a6a222a360474f83a4ced2bab4b1842e",
       "version_major": 2,
       "version_minor": 0
      },
      "text/plain": [
       "  0%|          | 0/25 [00:00<?, ?ba/s]"
      ]
     },
     "metadata": {},
     "output_type": "display_data"
    },
    {
     "data": {
      "text/html": [
       "\n",
       "    <div>\n",
       "        <style>\n",
       "            /* Turns off some styling */\n",
       "            progress {\n",
       "                /* gets rid of default border in Firefox and Opera. */\n",
       "                border: none;\n",
       "                /* Needs to be in here for Safari polyfill so background images work as expected. */\n",
       "                background-size: auto;\n",
       "            }\n",
       "        </style>\n",
       "      \n",
       "      <progress value='3039' max='3039' style='width:300px; height:20px; vertical-align: middle;'></progress>\n",
       "      [3039/3039 06:54]\n",
       "    </div>\n",
       "    "
      ],
      "text/plain": [
       "<IPython.core.display.HTML object>"
      ]
     },
     "metadata": {},
     "output_type": "display_data"
    }
   ],
   "source": [
    "model = AutoModelForSequenceClassification.from_pretrained(\"semeval_task4/model\", local_files_only=True)\n",
    "trainer = Trainer(model=model, args=training_args)\n",
    "\n",
    "#test = load_dataset('csv', data_files=\"synthetic__data.csv\")\n",
    "test = load_testset(\"synthetic_npt_data.csv\")\n",
    "y_pred = trainer.predict(test[\"train\"])"
   ]
  },
  {
   "cell_type": "code",
   "execution_count": 30,
   "id": "4a2412dc",
   "metadata": {},
   "outputs": [
    {
     "name": "stderr",
     "output_type": "stream",
     "text": [
      "/opt/conda/lib/python3.7/site-packages/sklearn/metrics/_classification.py:1318: UndefinedMetricWarning: Recall and F-score are ill-defined and being set to 0.0 in labels with no true samples. Use `zero_division` parameter to control this behavior.\n",
      "  _warn_prf(average, modifier, msg_start, len(result))\n"
     ]
    },
    {
     "data": {
      "text/plain": [
       "{'accuracy': 0.8554677857319181,\n",
       " 'f1': 0.4610523514933812,\n",
       " 'precision': 0.5,\n",
       " 'recall': 0.42773389286595903}"
      ]
     },
     "execution_count": 30,
     "metadata": {},
     "output_type": "execute_result"
    }
   ],
   "source": [
    "compute_test_metrics(y_pred)"
   ]
  },
  {
   "cell_type": "code",
   "execution_count": 31,
   "id": "10912015",
   "metadata": {},
   "outputs": [
    {
     "data": {
      "text/plain": [
       "<sklearn.metrics._plot.confusion_matrix.ConfusionMatrixDisplay at 0x7f7b66c268d0>"
      ]
     },
     "execution_count": 31,
     "metadata": {},
     "output_type": "execute_result"
    },
    {
     "data": {
      "image/png": "[encoded data removed]",
      "text/plain": [
       "<Figure size 432x288 with 2 Axes>"
      ]
     },
     "metadata": {
      "needs_background": "light"
     },
     "output_type": "display_data"
    }
   ],
   "source": [
    "cm = confusion_matrix(y_pred.label_ids, y_pred.predictions.argmax(-1))\n",
    "ConfusionMatrixDisplay.from_predictions(y_pred.label_ids, y_pred.predictions.argmax(-1))"
   ]
  },
  {
   "cell_type": "code",
   "execution_count": 32,
   "id": "864eb21a",
   "metadata": {},
   "outputs": [],
   "source": [
    "synth = pd.read_csv(\"synthetic_npt_data.csv\")\n",
    "synth[\"preds\"] = y_pred.predictions.argmax(-1)\n",
    "synth.to_csv(\"synthetic_npt_data_predicted.csv\")"
   ]
  },
  {
   "cell_type": "markdown",
   "id": "154f1476",
   "metadata": {},
   "source": [
    "### Saving Classifications to synthetic data file"
   ]
  },
  {
   "cell_type": "code",
   "execution_count": 78,
   "id": "c6fe2c71",
   "metadata": {},
   "outputs": [],
   "source": [
    "synth = pd.read_csv(\"synthetic_data.csv\")\n",
    "synth[\"preds\"] = y_pred.predictions.argmax(-1)\n",
    "synth.to_csv(\"synthetic_data_predicted.csv\")"
   ]
  },
  {
   "cell_type": "markdown",
   "id": "c5279ef5",
   "metadata": {},
   "source": [
    "### Using prepared synthetic_dpm dataset to train the new classifier"
   ]
  },
  {
   "cell_type": "code",
   "execution_count": 4,
   "id": "a3795a79",
   "metadata": {},
   "outputs": [
    {
     "name": "stderr",
     "output_type": "stream",
     "text": [
      "Using custom data configuration default-ba7a993fd50dbdff\n"
     ]
    },
    {
     "name": "stdout",
     "output_type": "stream",
     "text": [
      "Downloading and preparing dataset csv/default to /home/jovyan/.cache/huggingface/datasets/csv/default-ba7a993fd50dbdff/0.0.0/6b9057d9e23d9d8a2f05b985917a0da84d70c5dae3d22ddd8a3f22fb01c69d9e...\n"
     ]
    },
    {
     "data": {
      "application/vnd.jupyter.widget-view+json": {
       "model_id": "f62cca7b989842238ffe0516f1628794",
       "version_major": 2,
       "version_minor": 0
      },
      "text/plain": [
       "  0%|          | 0/1 [00:00<?, ?it/s]"
      ]
     },
     "metadata": {},
     "output_type": "display_data"
    },
    {
     "data": {
      "application/vnd.jupyter.widget-view+json": {
       "model_id": "18e23a53ea7c4674a79932e6960cd5b3",
       "version_major": 2,
       "version_minor": 0
      },
      "text/plain": [
       "  0%|          | 0/1 [00:00<?, ?it/s]"
      ]
     },
     "metadata": {},
     "output_type": "display_data"
    },
    {
     "name": "stdout",
     "output_type": "stream",
     "text": [
      "Dataset csv downloaded and prepared to /home/jovyan/.cache/huggingface/datasets/csv/default-ba7a993fd50dbdff/0.0.0/6b9057d9e23d9d8a2f05b985917a0da84d70c5dae3d22ddd8a3f22fb01c69d9e. Subsequent calls will reuse this data.\n"
     ]
    },
    {
     "data": {
      "application/vnd.jupyter.widget-view+json": {
       "model_id": "8d1f00642c8944cba9aaccbe1c3a6ff3",
       "version_major": 2,
       "version_minor": 0
      },
      "text/plain": [
       "  0%|          | 0/5 [00:00<?, ?it/s]"
      ]
     },
     "metadata": {},
     "output_type": "display_data"
    },
    {
     "name": "stderr",
     "output_type": "stream",
     "text": [
      "Using custom data configuration default-ba7a993fd50dbdff\n",
      "Reusing dataset csv (/home/jovyan/.cache/huggingface/datasets/csv/default-ba7a993fd50dbdff/0.0.0/6b9057d9e23d9d8a2f05b985917a0da84d70c5dae3d22ddd8a3f22fb01c69d9e)\n"
     ]
    },
    {
     "data": {
      "application/vnd.jupyter.widget-view+json": {
       "model_id": "20da2458d1a344a69af16b0eaef84b8e",
       "version_major": 2,
       "version_minor": 0
      },
      "text/plain": [
       "  0%|          | 0/5 [00:00<?, ?it/s]"
      ]
     },
     "metadata": {},
     "output_type": "display_data"
    }
   ],
   "source": [
    "'''vals_ds_bin = load_dataset('csv', data_files=\"synthetic_dpm_train.csv\", split=[\n",
    "    f'train[{k}%:{k+20}%]' for k in range(0, 100, 20)\n",
    "])\n",
    "trains_ds_bin = load_dataset('csv', data_files=\"synthetic_dpm_train.csv\", split=[\n",
    "    f'train[:{k}%]+train[{k+20}%:]' for k in range(0, 100, 20)\n",
    "])\n",
    "\n",
    "vals_ds_bin = load_dataset('csv', data_files=\"synthetic_dpm_npt_train.csv\", split=[\n",
    "    f'train[{k}%:{k+20}%]' for k in range(0, 100, 20)\n",
    "])\n",
    "trains_ds_bin = load_dataset('csv', data_files=\"synthetic_dpm_npt_train.csv\", split=[\n",
    "    f'train[:{k}%]+train[{k+20}%:]' for k in range(0, 100, 20)\n",
    "])'''\n",
    "\n",
    "vals_ds_bin = load_dataset('csv', data_files=\"all_synthetic_dpm_npt_train.csv\", split=[\n",
    "    f'train[{k}%:{k+20}%]' for k in range(0, 100, 20)\n",
    "])\n",
    "trains_ds_bin = load_dataset('csv', data_files=\"all_synthetic_dpm_npt_train.csv\", split=[\n",
    "    f'train[:{k}%]+train[{k+20}%:]' for k in range(0, 100, 20)\n",
    "])"
   ]
  },
  {
   "cell_type": "code",
   "execution_count": 5,
   "id": "68d028fe",
   "metadata": {},
   "outputs": [],
   "source": [
    "from transformers import AutoTokenizer\n",
    "\n",
    "tokenizer = AutoTokenizer.from_pretrained(\"bert-base-cased\")\n",
    "#tokenizer = AutoTokenizer.from_pretrained(\"bert-base-german-dbmdz-cased\")\n",
    "\n",
    "def tokenize_function(examples):\n",
    "    return tokenizer(examples[\"text\"], padding=\"max_length\", truncation=True)"
   ]
  },
  {
   "cell_type": "code",
   "execution_count": 6,
   "id": "88bea92e",
   "metadata": {},
   "outputs": [
    {
     "data": {
      "application/vnd.jupyter.widget-view+json": {
       "model_id": "c7ac50c561a347baa11c06b9030eafac",
       "version_major": 2,
       "version_minor": 0
      },
      "text/plain": [
       "  0%|          | 0/12 [00:00<?, ?ba/s]"
      ]
     },
     "metadata": {},
     "output_type": "display_data"
    },
    {
     "data": {
      "application/vnd.jupyter.widget-view+json": {
       "model_id": "51175fe808674cfa9a13dbab91a4cabd",
       "version_major": 2,
       "version_minor": 0
      },
      "text/plain": [
       "  0%|          | 0/12 [00:00<?, ?ba/s]"
      ]
     },
     "metadata": {},
     "output_type": "display_data"
    },
    {
     "data": {
      "application/vnd.jupyter.widget-view+json": {
       "model_id": "a6a3a11b99b4459ebc272a88e046f5c9",
       "version_major": 2,
       "version_minor": 0
      },
      "text/plain": [
       "  0%|          | 0/12 [00:00<?, ?ba/s]"
      ]
     },
     "metadata": {},
     "output_type": "display_data"
    },
    {
     "data": {
      "application/vnd.jupyter.widget-view+json": {
       "model_id": "f7c0aafa359f4b1d8c5cc74ef3f80d19",
       "version_major": 2,
       "version_minor": 0
      },
      "text/plain": [
       "  0%|          | 0/12 [00:00<?, ?ba/s]"
      ]
     },
     "metadata": {},
     "output_type": "display_data"
    },
    {
     "data": {
      "application/vnd.jupyter.widget-view+json": {
       "model_id": "24274e05d1364756a29fef620cdddf55",
       "version_major": 2,
       "version_minor": 0
      },
      "text/plain": [
       "  0%|          | 0/12 [00:00<?, ?ba/s]"
      ]
     },
     "metadata": {},
     "output_type": "display_data"
    },
    {
     "data": {
      "application/vnd.jupyter.widget-view+json": {
       "model_id": "e8145a4dd1bd45979bf9f356847818d4",
       "version_major": 2,
       "version_minor": 0
      },
      "text/plain": [
       "  0%|          | 0/46 [00:00<?, ?ba/s]"
      ]
     },
     "metadata": {},
     "output_type": "display_data"
    },
    {
     "data": {
      "application/vnd.jupyter.widget-view+json": {
       "model_id": "a5c150a36a6a4920b40c4afa94d70231",
       "version_major": 2,
       "version_minor": 0
      },
      "text/plain": [
       "  0%|          | 0/46 [00:00<?, ?ba/s]"
      ]
     },
     "metadata": {},
     "output_type": "display_data"
    },
    {
     "data": {
      "application/vnd.jupyter.widget-view+json": {
       "model_id": "33888ea8aafa45c6864310fa4667c92a",
       "version_major": 2,
       "version_minor": 0
      },
      "text/plain": [
       "  0%|          | 0/46 [00:00<?, ?ba/s]"
      ]
     },
     "metadata": {},
     "output_type": "display_data"
    },
    {
     "data": {
      "application/vnd.jupyter.widget-view+json": {
       "model_id": "537c6a20dd1c4addbe3457798841abfa",
       "version_major": 2,
       "version_minor": 0
      },
      "text/plain": [
       "  0%|          | 0/46 [00:00<?, ?ba/s]"
      ]
     },
     "metadata": {},
     "output_type": "display_data"
    },
    {
     "data": {
      "application/vnd.jupyter.widget-view+json": {
       "model_id": "a9cc2083d3044328a8079955d2c0fc24",
       "version_major": 2,
       "version_minor": 0
      },
      "text/plain": [
       "  0%|          | 0/46 [00:00<?, ?ba/s]"
      ]
     },
     "metadata": {},
     "output_type": "display_data"
    }
   ],
   "source": [
    "for index, val_ds in enumerate(vals_ds_bin):\n",
    "    val_ds = val_ds.remove_columns([\"Unnamed: 0\"])\n",
    "    vals_ds_bin[index] = val_ds.map(tokenize_function, batched=True)\n",
    "    \n",
    "for index, train_ds in enumerate(trains_ds_bin):\n",
    "    train_ds = train_ds.remove_columns([\"Unnamed: 0\"])\n",
    "    trains_ds_bin[index] = train_ds.map(tokenize_function, batched=True)"
   ]
  },
  {
   "cell_type": "code",
   "execution_count": null,
   "id": "227c94ae",
   "metadata": {},
   "outputs": [
    {
     "name": "stderr",
     "output_type": "stream",
     "text": [
      "Some weights of the model checkpoint at bert-base-cased were not used when initializing BertForSequenceClassification: ['cls.predictions.decoder.weight', 'cls.predictions.transform.dense.weight', 'cls.predictions.transform.LayerNorm.weight', 'cls.seq_relationship.bias', 'cls.predictions.transform.dense.bias', 'cls.predictions.transform.LayerNorm.bias', 'cls.predictions.bias', 'cls.seq_relationship.weight']\n",
      "- This IS expected if you are initializing BertForSequenceClassification from the checkpoint of a model trained on another task or with another architecture (e.g. initializing a BertForSequenceClassification model from a BertForPreTraining model).\n",
      "- This IS NOT expected if you are initializing BertForSequenceClassification from the checkpoint of a model that you expect to be exactly identical (initializing a BertForSequenceClassification model from a BertForSequenceClassification model).\n",
      "Some weights of BertForSequenceClassification were not initialized from the model checkpoint at bert-base-cased and are newly initialized: ['classifier.bias', 'classifier.weight']\n",
      "You should probably TRAIN this model on a down-stream task to be able to use it for predictions and inference.\n"
     ]
    }
   ],
   "source": [
    "#metrics = {} \n",
    "\n",
    "for i in range(1):\n",
    "    model = AutoModelForSequenceClassification.from_pretrained(\"bert-base-cased\", num_labels=2)\n",
    "    trainer = Trainer(model=model, args=training_args, train_dataset=trains_ds_bin[i], eval_dataset=vals_ds_bin[i], compute_metrics=compute_metrics)\n",
    "    trainer.train()\n",
    "    #metrics[i] = trainer.evaluate()\n",
    "    \n",
    "trainer_bin.save_model('semeval_task4_all_synthetics/model')"
   ]
  },
  {
   "cell_type": "markdown",
   "id": "fda2856c",
   "metadata": {},
   "source": [
    "### And evaluate performance on held-out test set"
   ]
  },
  {
   "cell_type": "code",
   "execution_count": null,
   "id": "e11b6df5",
   "metadata": {},
   "outputs": [],
   "source": [
    "#model = AutoModelForSequenceClassification.from_pretrained(\"semeval_task4_npt_synthetics/model\", local_files_only=True)\n",
    "#trainer = Trainer(model=model, args=training_args)\n",
    "\n",
    "test = load_dataset('csv', data_files=\"test_set.csv\")\n",
    "\n",
    "test = test.remove_columns([\"Unnamed: 0\"])\n",
    "test = test.map(tokenize_function, batched=True)\n",
    "\n",
    "#redefining compute_metrics function to fit trainer.predict return\n",
    "\n",
    "y_pred = trainer.predict(test[\"train\"])"
   ]
  },
  {
   "cell_type": "code",
   "execution_count": 52,
   "id": "adf49163",
   "metadata": {},
   "outputs": [
    {
     "data": {
      "text/plain": [
       "{'accuracy': 0.9178605539637058,\n",
       " 'f1': 0.5656565656565655,\n",
       " 'precision': 0.5685279187817259,\n",
       " 'recall': 0.5628140703517588}"
      ]
     },
     "execution_count": 52,
     "metadata": {},
     "output_type": "execute_result"
    }
   ],
   "source": [
    "compute_test_metrics(y_pred, 'binary')"
   ]
  },
  {
   "cell_type": "code",
   "execution_count": 53,
   "id": "ada0db43",
   "metadata": {},
   "outputs": [
    {
     "data": {
      "text/plain": [
       "<sklearn.metrics._plot.confusion_matrix.ConfusionMatrixDisplay at 0x7f7b83a8f278>"
      ]
     },
     "execution_count": 53,
     "metadata": {},
     "output_type": "execute_result"
    },
    {
     "data": {
      "image/png": "[encoded data removed]",
      "text/plain": [
       "<Figure size 432x288 with 2 Axes>"
      ]
     },
     "metadata": {
      "needs_background": "light"
     },
     "output_type": "display_data"
    }
   ],
   "source": [
    "cm = confusion_matrix(y_pred.label_ids, y_pred.predictions.argmax(-1))\n",
    "class_names = [0,1]\n",
    "df_cm = pd.DataFrame(cm, index=class_names, columns=class_names)\n",
    "show_confusion_matrix(df_cm)"
   ]
  },
  {
   "cell_type": "code",
   "execution_count": 61,
   "id": "e801607b",
   "metadata": {},
   "outputs": [
    {
     "name": "stderr",
     "output_type": "stream",
     "text": [
      "loading configuration file semeval_task4/model/config.json\n",
      "Model config BertConfig {\n",
      "  \"_name_or_path\": \"semeval_task4/model\",\n",
      "  \"architectures\": [\n",
      "    \"BertForSequenceClassification\"\n",
      "  ],\n",
      "  \"attention_probs_dropout_prob\": 0.1,\n",
      "  \"classifier_dropout\": null,\n",
      "  \"gradient_checkpointing\": false,\n",
      "  \"hidden_act\": \"gelu\",\n",
      "  \"hidden_dropout_prob\": 0.1,\n",
      "  \"hidden_size\": 768,\n",
      "  \"initializer_range\": 0.02,\n",
      "  \"intermediate_size\": 3072,\n",
      "  \"layer_norm_eps\": 1e-12,\n",
      "  \"max_position_embeddings\": 512,\n",
      "  \"model_type\": \"bert\",\n",
      "  \"num_attention_heads\": 12,\n",
      "  \"num_hidden_layers\": 12,\n",
      "  \"pad_token_id\": 0,\n",
      "  \"position_embedding_type\": \"absolute\",\n",
      "  \"torch_dtype\": \"float32\",\n",
      "  \"transformers_version\": \"4.16.2\",\n",
      "  \"type_vocab_size\": 2,\n",
      "  \"use_cache\": true,\n",
      "  \"vocab_size\": 28996\n",
      "}\n",
      "\n",
      "loading weights file semeval_task4/model/pytorch_model.bin\n",
      "All model checkpoint weights were used when initializing BertForSequenceClassification.\n",
      "\n",
      "All the weights of BertForSequenceClassification were initialized from the model checkpoint at semeval_task4/model.\n",
      "If your task is similar to the task the model of the checkpoint was trained on, you can already use BertForSequenceClassification for predictions without further training.\n",
      "Using custom data configuration default-0bf689a0d3dfe04f\n",
      "Reusing dataset csv (/home/jovyan/.cache/huggingface/datasets/csv/default-0bf689a0d3dfe04f/0.0.0/6b9057d9e23d9d8a2f05b985917a0da84d70c5dae3d22ddd8a3f22fb01c69d9e)\n"
     ]
    },
    {
     "data": {
      "application/vnd.jupyter.widget-view+json": {
       "model_id": "bc1b291db40849c2a2019a3a7ccd285f",
       "version_major": 2,
       "version_minor": 0
      },
      "text/plain": [
       "  0%|          | 0/1 [00:00<?, ?it/s]"
      ]
     },
     "metadata": {},
     "output_type": "display_data"
    },
    {
     "name": "stderr",
     "output_type": "stream",
     "text": [
      "Loading cached processed dataset at /home/jovyan/.cache/huggingface/datasets/csv/default-0bf689a0d3dfe04f/0.0.0/6b9057d9e23d9d8a2f05b985917a0da84d70c5dae3d22ddd8a3f22fb01c69d9e/cache-9a317815381ddfea.arrow\n",
      "The following columns in the test set  don't have a corresponding argument in `BertForSequenceClassification.forward` and have been ignored: text.\n",
      "***** Running Prediction *****\n",
      "  Num examples = 3832\n",
      "  Batch size = 8\n"
     ]
    },
    {
     "data": {
      "text/html": [
       "\n",
       "    <div>\n",
       "      \n",
       "      <progress value='479' max='479' style='width:300px; height:20px; vertical-align: middle;'></progress>\n",
       "      [479/479 01:09]\n",
       "    </div>\n",
       "    "
      ],
      "text/plain": [
       "<IPython.core.display.HTML object>"
      ]
     },
     "metadata": {},
     "output_type": "display_data"
    }
   ],
   "source": [
    "model = AutoModelForSequenceClassification.from_pretrained(\"semeval_task4/model\", local_files_only=True)\n",
    "trainer = Trainer(model=model, args=training_args)\n",
    "\n",
    "test = load_dataset('csv', data_files=\"test_dataset.csv\")\n",
    "\n",
    "test = test.remove_columns([\"Unnamed: 0\"])\n",
    "test = test.map(tokenize_function, batched=True)\n",
    "\n",
    "#redefining compute_metrics function to fit trainer.predict returns\n",
    "def compute_metrics(pred):\n",
    "    labels = pred.label_ids\n",
    "    preds = pred.predictions.argmax(-1)\n",
    "    precision, recall, f1, _ = precision_recall_fscore_support(labels, preds, average='binary')\n",
    "    acc = accuracy_score(labels, preds)\n",
    "    return {\n",
    "        'accuracy': acc,\n",
    "        'f1': f1,\n",
    "        'precision': precision,\n",
    "        'recall': recall,\n",
    "    }\n",
    "\n",
    "y_pred = trainer.predict(test[\"train\"])"
   ]
  },
  {
   "cell_type": "code",
   "execution_count": 62,
   "id": "6a50a5a8",
   "metadata": {},
   "outputs": [],
   "source": [
    "preds = y_pred.predictions.argmax(-1)"
   ]
  },
  {
   "cell_type": "code",
   "execution_count": 63,
   "id": "40983e76",
   "metadata": {},
   "outputs": [
    {
     "data": {
      "text/html": [
       "<div>\n",
       "<style scoped>\n",
       "    .dataframe tbody tr th:only-of-type {\n",
       "        vertical-align: middle;\n",
       "    }\n",
       "\n",
       "    .dataframe tbody tr th {\n",
       "        vertical-align: top;\n",
       "    }\n",
       "\n",
       "    .dataframe thead th {\n",
       "        text-align: right;\n",
       "    }\n",
       "</style>\n",
       "<table border=\"1\" class=\"dataframe\">\n",
       "  <thead>\n",
       "    <tr style=\"text-align: right;\">\n",
       "      <th></th>\n",
       "      <th>0</th>\n",
       "    </tr>\n",
       "  </thead>\n",
       "  <tbody>\n",
       "    <tr>\n",
       "      <th>0</th>\n",
       "      <td>0</td>\n",
       "    </tr>\n",
       "    <tr>\n",
       "      <th>1</th>\n",
       "      <td>1</td>\n",
       "    </tr>\n",
       "    <tr>\n",
       "      <th>2</th>\n",
       "      <td>0</td>\n",
       "    </tr>\n",
       "    <tr>\n",
       "      <th>3</th>\n",
       "      <td>0</td>\n",
       "    </tr>\n",
       "    <tr>\n",
       "      <th>4</th>\n",
       "      <td>0</td>\n",
       "    </tr>\n",
       "  </tbody>\n",
       "</table>\n",
       "</div>"
      ],
      "text/plain": [
       "   0\n",
       "0  0\n",
       "1  1\n",
       "2  0\n",
       "3  0\n",
       "4  0"
      ]
     },
     "execution_count": 63,
     "metadata": {},
     "output_type": "execute_result"
    }
   ],
   "source": [
    "res = pd.DataFrame(preds)\n",
    "res.head()"
   ]
  },
  {
   "cell_type": "code",
   "execution_count": 64,
   "id": "a4b06207",
   "metadata": {},
   "outputs": [
    {
     "data": {
      "text/plain": [
       "0    2887\n",
       "1     945\n",
       "Name: 0, dtype: int64"
      ]
     },
     "execution_count": 64,
     "metadata": {},
     "output_type": "execute_result"
    }
   ],
   "source": [
    "res[0].value_counts()"
   ]
  },
  {
   "cell_type": "code",
   "execution_count": 65,
   "id": "4a85538b",
   "metadata": {},
   "outputs": [],
   "source": [
    "res.to_csv(\"run_post_eval/balanced_finetuned/task1.txt\", header=False, index=False)"
   ]
  },
  {
   "cell_type": "markdown",
   "id": "346a268f",
   "metadata": {},
   "source": [
    "Looking pretty good. We can save the model here for later use."
   ]
  },
  {
   "cell_type": "code",
   "execution_count": null,
   "id": "8ce8854a",
   "metadata": {},
   "outputs": [],
   "source": [
    "def labels2file(p, outf_path):\n",
    "    with open(outf_path,'w') as outf:\n",
    "        for pi in p:\n",
    "            outf.write(','.join([str(k) for k in pi])+'\\n')\n",
    "            \n",
    "!mkdir ref res"
   ]
  }
 ],
 "metadata": {
  "kernelspec": {
   "display_name": "Python 3",
   "language": "python",
   "name": "python3"
  },
  "language_info": {
   "codemirror_mode": {
    "name": "ipython",
    "version": 3
   },
   "file_extension": ".py",
   "mimetype": "text/x-python",
   "name": "python",
   "nbconvert_exporter": "python",
   "pygments_lexer": "ipython3",
   "version": "3.9.9"
  }
 },
 "nbformat": 4,
 "nbformat_minor": 5
}
